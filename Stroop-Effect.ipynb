{
 "cells": [
  {
   "cell_type": "markdown",
   "metadata": {},
   "source": [
    "# Test a Perceptual Phenomenon\n",
    "\n",
    "by _**Ashish Sahu**_ (May, 2017)"
   ]
  },
  {
   "cell_type": "markdown",
   "metadata": {},
   "source": [
    "### Stroop Effect (Information)\n",
    "\n",
    "In a Stroop task, participants are presented with a list of words, with each word displayed in a color of ink. The participant’s task is to say out loud the color of the ink in which the word is printed. The task has two conditions: a congruent words condition, and an incongruent words condition. In the congruent words condition, the words being displayed are color words whose names match the colors in which they are printed: for example RED, BLUE. In the incongruent words condition, the words displayed are color words whose names do not match the colors in which they are printed: for example PURPLE, ORANGE. In each case, we measure the time it takes to name the ink colors in equally-sized lists. Each participant will go through and record a time from each condition.\n",
    "\n",
    "**Reference:** [Wikipedia- Stroop Effect](https://en.wikipedia.org/wiki/Stroop_effect)"
   ]
  },
  {
   "cell_type": "markdown",
   "metadata": {},
   "source": [
    "### Investigation"
   ]
  },
  {
   "cell_type": "markdown",
   "metadata": {},
   "source": [
    "** 1. What is our independent variable? What is our dependent variable?**\n",
    "\n",
    "* **Independent Variable:** The word-color condition (congruent words or incongruent words).\n",
    "* **Dependent variable:** The time it takes to recognize/name the ink colors of the mismatch word/colour congruency."
   ]
  },
  {
   "cell_type": "markdown",
   "metadata": {
    "collapsed": true
   },
   "source": [
    "** 2. What is an appropriate set of hypotheses for this task? What kind of statistical test do you expect to perform? Justify your choices.**\n",
    "\n",
    "* **Null Hypothesis, H0:** -  The mismatch of color to word will have no effect or decreased time to recognize and say the color\n",
    "* **Alternate Hypothesis, Ha: ** - The mismatch of color and word will increase time to recognize and say the color.\n",
    "\n",
    "* H0: μc ≤ μi\n",
    "* H1: μc < μi\n",
    "\n",
    "where μi = Incogruent words mean time to recognize and μc = Cogruent words mean time to recognize\n",
    "\n",
    "* **Statistical Test**: - Paired One tail t-test. \n",
    "\n",
    "It is a t-test instead of z-test, because the population variance and standard deviation is unknown, sample size is less than 30. Also the same subject is exposed to two conditions and tested for each, which are the defining criteria for \"repeated-measures\" statistical tests, which implies that it should be **dependent sample** test. I would do one tail t-test in postive direction.\n",
    "\n",
    "**Reference:** [Stat Trek - t distribution](http://stattrek.com/probability-distributions/t-distribution.aspx)"
   ]
  },
  {
   "cell_type": "markdown",
   "metadata": {},
   "source": [
    "** 3. Report some descriptive statistics regarding this dataset. Include at least one measure of central tendency and at least one measure of variability.**"
   ]
  },
  {
   "cell_type": "code",
   "execution_count": 3,
   "metadata": {
    "collapsed": false
   },
   "outputs": [
    {
     "data": {
      "text/html": [
       "<div>\n",
       "<table border=\"1\" class=\"dataframe\">\n",
       "  <thead>\n",
       "    <tr style=\"text-align: right;\">\n",
       "      <th></th>\n",
       "      <th>Congruent</th>\n",
       "      <th>Incongruent</th>\n",
       "    </tr>\n",
       "  </thead>\n",
       "  <tbody>\n",
       "    <tr>\n",
       "      <th>0</th>\n",
       "      <td>12.079</td>\n",
       "      <td>19.278</td>\n",
       "    </tr>\n",
       "    <tr>\n",
       "      <th>1</th>\n",
       "      <td>16.791</td>\n",
       "      <td>18.741</td>\n",
       "    </tr>\n",
       "    <tr>\n",
       "      <th>2</th>\n",
       "      <td>9.564</td>\n",
       "      <td>21.214</td>\n",
       "    </tr>\n",
       "    <tr>\n",
       "      <th>3</th>\n",
       "      <td>8.630</td>\n",
       "      <td>15.687</td>\n",
       "    </tr>\n",
       "    <tr>\n",
       "      <th>4</th>\n",
       "      <td>14.669</td>\n",
       "      <td>22.803</td>\n",
       "    </tr>\n",
       "  </tbody>\n",
       "</table>\n",
       "</div>"
      ],
      "text/plain": [
       "   Congruent  Incongruent\n",
       "0     12.079       19.278\n",
       "1     16.791       18.741\n",
       "2      9.564       21.214\n",
       "3      8.630       15.687\n",
       "4     14.669       22.803"
      ]
     },
     "execution_count": 3,
     "metadata": {},
     "output_type": "execute_result"
    }
   ],
   "source": [
    "# import necessory libraries to read, describe\n",
    "\n",
    "import csv\n",
    "import numpy as np\n",
    "import pandas as pd\n",
    "\n",
    "stroopdata = pd.read_csv(\"stroopdata.csv\")\n",
    "stroopdata.head()"
   ]
  },
  {
   "cell_type": "code",
   "execution_count": 4,
   "metadata": {
    "collapsed": false
   },
   "outputs": [
    {
     "data": {
      "text/html": [
       "<div>\n",
       "<table border=\"1\" class=\"dataframe\">\n",
       "  <thead>\n",
       "    <tr style=\"text-align: right;\">\n",
       "      <th></th>\n",
       "      <th>Congruent</th>\n",
       "      <th>Incongruent</th>\n",
       "      <th>Difference</th>\n",
       "    </tr>\n",
       "  </thead>\n",
       "  <tbody>\n",
       "    <tr>\n",
       "      <th>count</th>\n",
       "      <td>24.000000</td>\n",
       "      <td>24.000000</td>\n",
       "      <td>24.000000</td>\n",
       "    </tr>\n",
       "    <tr>\n",
       "      <th>mean</th>\n",
       "      <td>14.051125</td>\n",
       "      <td>22.015917</td>\n",
       "      <td>7.964792</td>\n",
       "    </tr>\n",
       "    <tr>\n",
       "      <th>std</th>\n",
       "      <td>3.559358</td>\n",
       "      <td>4.797057</td>\n",
       "      <td>4.864827</td>\n",
       "    </tr>\n",
       "    <tr>\n",
       "      <th>min</th>\n",
       "      <td>8.630000</td>\n",
       "      <td>15.687000</td>\n",
       "      <td>1.950000</td>\n",
       "    </tr>\n",
       "    <tr>\n",
       "      <th>25%</th>\n",
       "      <td>11.895250</td>\n",
       "      <td>18.716750</td>\n",
       "      <td>3.645500</td>\n",
       "    </tr>\n",
       "    <tr>\n",
       "      <th>50%</th>\n",
       "      <td>14.356500</td>\n",
       "      <td>21.017500</td>\n",
       "      <td>7.666500</td>\n",
       "    </tr>\n",
       "    <tr>\n",
       "      <th>75%</th>\n",
       "      <td>16.200750</td>\n",
       "      <td>24.051500</td>\n",
       "      <td>10.258500</td>\n",
       "    </tr>\n",
       "    <tr>\n",
       "      <th>max</th>\n",
       "      <td>22.328000</td>\n",
       "      <td>35.255000</td>\n",
       "      <td>21.919000</td>\n",
       "    </tr>\n",
       "  </tbody>\n",
       "</table>\n",
       "</div>"
      ],
      "text/plain": [
       "       Congruent  Incongruent  Difference\n",
       "count  24.000000    24.000000   24.000000\n",
       "mean   14.051125    22.015917    7.964792\n",
       "std     3.559358     4.797057    4.864827\n",
       "min     8.630000    15.687000    1.950000\n",
       "25%    11.895250    18.716750    3.645500\n",
       "50%    14.356500    21.017500    7.666500\n",
       "75%    16.200750    24.051500   10.258500\n",
       "max    22.328000    35.255000   21.919000"
      ]
     },
     "execution_count": 4,
     "metadata": {},
     "output_type": "execute_result"
    }
   ],
   "source": [
    "# add a column to dataset named as 'Difference'\n",
    "stroopdata['Difference'] = stroopdata.Incongruent - stroopdata.Congruent\n",
    "stroopdata.describe()"
   ]
  },
  {
   "cell_type": "markdown",
   "metadata": {},
   "source": [
    "**Congruent Dataset:**\n",
    "* Mean = 14.05\n",
    "* Median = 14.36\n",
    "* SD = 3.56\n",
    "\n",
    "**Incongruent Dataset:**\n",
    "* Mean = 22.02\n",
    "* Median = 21.02\n",
    "* SD = 4.79\n",
    "\n",
    "**Difference:**\n",
    "* Diff-Mean = 7.97\n",
    "* Diff-SD = 4.86\n",
    "\n",
    "**[Standard-Error](http://stattrek.com/estimation/standard-error.aspx?Tutorial=AP)** = 0.993\n",
    "\n",
    "**Reference:** [Central Tendency](https://statistics.laerd.com/statistical-guides/measures-central-tendency-mean-mode-median.php) and [Variability](http://www.statisticshowto.com/variability)"
   ]
  },
  {
   "cell_type": "markdown",
   "metadata": {},
   "source": [
    "** 5. Provide one or two visualizations that show the distribution of the sample data. Write one or two sentences noting what you observe about the plot or plots.**"
   ]
  },
  {
   "cell_type": "code",
   "execution_count": 5,
   "metadata": {
    "collapsed": false
   },
   "outputs": [
    {
     "data": {
      "text/plain": [
       "<matplotlib.axes._subplots.AxesSubplot at 0x92fa2b0>"
      ]
     },
     "execution_count": 5,
     "metadata": {},
     "output_type": "execute_result"
    },
    {
     "data": {
      "image/png": "[encoded data removed]",
      "text/plain": [
       "<matplotlib.figure.Figure at 0x7a76400>"
      ]
     },
     "metadata": {},
     "output_type": "display_data"
    }
   ],
   "source": [
    "# import visualisation libraries\n",
    "\n",
    "import matplotlib.pyplot as plt\n",
    "%matplotlib inline \n",
    "\n",
    "# Seaborn for visualisation\n",
    "import seaborn as sns\n",
    "sns.distplot(stroopdata.Incongruent, bins=10, axlabel = 'Congruent Density-Histrogram', color='Red')"
   ]
  },
  {
   "cell_type": "code",
   "execution_count": 6,
   "metadata": {
    "collapsed": false
   },
   "outputs": [
    {
     "data": {
      "text/plain": [
       "<matplotlib.axes._subplots.AxesSubplot at 0x943dc88>"
      ]
     },
     "execution_count": 6,
     "metadata": {},
     "output_type": "execute_result"
    },
    {
     "data": {
      "image/png": "[encoded data removed]",
      "text/plain": [
       "<matplotlib.figure.Figure at 0x9525be0>"
      ]
     },
     "metadata": {},
     "output_type": "display_data"
    }
   ],
   "source": [
    "# Time-spread of the Congruent words\n",
    "sns.boxplot(stroopdata.Incongruent, color='cyan', orient='v')"
   ]
  },
  {
   "cell_type": "code",
   "execution_count": 10,
   "metadata": {
    "collapsed": false
   },
   "outputs": [
    {
     "data": {
      "text/plain": [
       "([array([ 4.,  1.,  5.,  1.,  5.,  2.,  2.,  2.,  1.,  0.,  1.,  0.,  0.,\n",
       "          0.,  0.,  0.,  0.,  0.,  0.,  0.]),\n",
       "  array([ 0.,  0.,  0.,  0.,  0.,  1.,  3.,  4.,  2.,  4.,  3.,  3.,  1.,\n",
       "          1.,  0.,  0.,  0.,  0.,  0.,  2.])],\n",
       " array([  8.63   ,   9.96125,  11.2925 ,  12.62375,  13.955  ,  15.28625,\n",
       "         16.6175 ,  17.94875,  19.28   ,  20.61125,  21.9425 ,  23.27375,\n",
       "         24.605  ,  25.93625,  27.2675 ,  28.59875,  29.93   ,  31.26125,\n",
       "         32.5925 ,  33.92375,  35.255  ]),\n",
       " <a list of 2 Lists of Patches objects>)"
      ]
     },
     "execution_count": 10,
     "metadata": {},
     "output_type": "execute_result"
    },
    {
     "data": {
      "image/png": "[encoded data removed]",
      "text/plain": [
       "<matplotlib.figure.Figure at 0x9698198>"
      ]
     },
     "metadata": {},
     "output_type": "display_data"
    }
   ],
   "source": [
    "# Recognition time (Seconds) - X-axis\n",
    "plt.hist(x=[stroopdata.Congruent, stroopdata.Incongruent], stacked=False, bins=20)"
   ]
  },
  {
   "cell_type": "markdown",
   "metadata": {},
   "source": [
    "** 5. Perform the statistical test and report your results. What is your confidence level and your critical statistic value? Do you reject the null hypothesis or fail to reject it? Come to a conclusion in terms of the experiment task. Did the results match up with your expectations?**"
   ]
  },
  {
   "cell_type": "markdown",
   "metadata": {},
   "source": [
    "I'm going to perform the statistical test at the 95% confidence level (α = .05) with 23 degrees of freedom.\n",
    "\n",
    "* _df_ = 23\n",
    "* _Aalpha_ = 0.05\n",
    "* _t-score_ = 8.021\n",
    "* _t-ctritical values_ = 1.714\n",
    "* _Confidence Intervals_ = 5.29 and 10.63\n",
    "* _P-value_ =< 0.0001\n",
    "\n",
    "At 95% confidence level and 23 degrees of freedom, our p value is way less than alpha (0.05), Since the t-score falls in the critical region we reject the null hypothesis. We can safely say that congruent and incongreunt time are very different and we can draw conclusion that **word-color mismatch does have an impact on participant's reading time response and ovweall perception.**\n",
    "\n",
    "**Reference:** [t-table](http://faculty.washington.edu/heagerty/Books/Biostatistics/TABLES/t-Tables/) and [P-value](http://www.graphpad.com/quickcalcs/distMenu/)"
   ]
  },
  {
   "cell_type": "code",
   "execution_count": 24,
   "metadata": {
    "collapsed": false
   },
   "outputs": [
    {
     "data": {
      "text/html": [
       "<iframe src=http://www.graphpad.com/quickcalcs/distMenu width=1000 height=350></iframe>"
      ],
      "text/plain": [
       "<IPython.core.display.HTML object>"
      ]
     },
     "execution_count": 24,
     "metadata": {},
     "output_type": "execute_result"
    }
   ],
   "source": [
    "# P-value calcualtion\n",
    "\n",
    "from IPython.display import HTML\n",
    "HTML('<iframe src=http://www.graphpad.com/quickcalcs/distMenu width=1000 height=350></iframe>')"
   ]
  },
  {
   "cell_type": "markdown",
   "metadata": {},
   "source": [
    "** 6. What do you think is responsible for the effects observed? Can you think of an alternative or similar task that would result in a similar effect? Some research about the problem will be helpful for thinking about these two questions!**"
   ]
  },
  {
   "cell_type": "markdown",
   "metadata": {
    "collapsed": true
   },
   "source": [
    "* Pcychologically, way our brain receives causes a problem, which draws  interference between the different information wchich is what the words say and what is the color of the words. The effect is related to the ability of most people to read words more   quickly and automatically than they can name colors. Color-words mismatch require selective attention, and slows down humans Speed-Processing capabilty.\n",
    "\n",
    "* Another nice experiment would be flipping the words and recording the response time, checking comparing normal people's congruent word response time to a color-blind person reading response."
   ]
  },
  {
   "cell_type": "code",
   "execution_count": null,
   "metadata": {
    "collapsed": true
   },
   "outputs": [],
   "source": []
  }
 ],
 "metadata": {
  "anaconda-cloud": {},
  "kernelspec": {
   "display_name": "Python [conda env:DAND]",
   "language": "python",
   "name": "conda-env-DAND-py"
  },
  "language_info": {
   "codemirror_mode": {
    "name": "ipython",
    "version": 2
   },
   "file_extension": ".py",
   "mimetype": "text/x-python",
   "name": "python",
   "nbconvert_exporter": "python",
   "pygments_lexer": "ipython2",
   "version": "2.7.12"
  }
 },
 "nbformat": 4,
 "nbformat_minor": 2
}
